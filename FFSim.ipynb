{
 "cells": [
  {
   "cell_type": "markdown",
   "metadata": {},
   "source": [
    "# The FF simulator\n",
    "## Note that some of this code is old as shit and I'm not quite sure why it is the way it is. I keep meaning to rewrite it, but CBA.\n",
    "\n",
    "First of all do some imports:\n",
    "- BS4 does html handling\n",
    "- urlib opens websites\n",
    "- numpy for decent arrays\n",
    "- copy, not sure, maybe depleted!?\n",
    "- random for the PRNG for the league"
   ]
  },
  {
   "cell_type": "code",
   "execution_count": 13,
   "metadata": {
    "collapsed": true
   },
   "outputs": [],
   "source": [
    "from bs4 import BeautifulSoup\n",
    "import urllib\n",
    "import numpy as np\n",
    "from copy import copy\n",
    "import random\n",
    "\n",
    "nSims = 1000000"
   ]
  },
  {
   "cell_type": "markdown",
   "metadata": {},
   "source": [
    "# Now time for the nuts and bolts of the script\n",
    "1. Get fixtures list from the FF site, simple scrape used in the stats site too\n",
    "2. Get the current league points, basically who has what number of points\n",
    "3. Decency filter, checks that the simulated league isn't fucked up\n",
    "4. Simulate league, for each GW remaining assign a random winner (or draw) to each game\n",
    "5. Finalise solutions, not really sure exactly how it does it, but appears to work out who's in the top four..."
   ]
  },
  {
   "cell_type": "code",
   "execution_count": 14,
   "metadata": {
    "collapsed": false
   },
   "outputs": [],
   "source": [
    "def getFitureList():\n",
    "    matches = np.zeros((36,8))\n",
    "    matchCounter = 0\n",
    "    for page in range(1, 4):\n",
    "        fixtureURL = 'http://fantasy.premierleague.com/my-leagues/2968/matches/?matches-page='+str(page)\n",
    "        r = urllib.urlopen(fixtureURL).read()\n",
    "        soup = BeautifulSoup(r, 'lxml')\n",
    "        rows = soup.findAll('tr', {'class': 'ismResult'})\n",
    "        for row in rows:\n",
    "            gwNum = int(row.td.text)\n",
    "            home = row.find('td', {'class', 'ismHome'})\n",
    "            homeUrl = home.find('a', href=True)['href'][7:]\n",
    "            homeTeam = homeUrl[:homeUrl.find('/')]\n",
    "            matches[gwNum-1, (matchCounter%8)] = homeTeam\n",
    "            \n",
    "            away = row.find('td', {'class', 'ismAway'})\n",
    "            awayUrl = away.find('a', href=True)['href'][7:]\n",
    "            awayTeam = awayUrl[:awayUrl.find('/')]\n",
    "            matches[gwNum-1, (matchCounter+1)%8] = awayTeam\n",
    "            \n",
    "            matchCounter += 2\n",
    "    return matches\n",
    "\n",
    "def getLeaguePoints():\n",
    "    baseUrl = 'http://fantasy.premierleague.com/my-leagues/2968/standings/'\n",
    "    r = urllib.urlopen(baseUrl).read()\n",
    "    soup = BeautifulSoup(r, 'lxml').find('table')\n",
    "    rows = soup.findAll('tr')\n",
    "    leagueDict = {}\n",
    "    for row in rows:\n",
    "        team = -1\n",
    "        cells = list(row.findAll('td'))\n",
    "        for cell in cells:\n",
    "            teamNum = cell.find('a', href=True)\n",
    "            if(teamNum is not None):\n",
    "                teamNum = teamNum['href'][7:]\n",
    "                team = int(teamNum[:teamNum.find('/')])\n",
    "                continue\n",
    "            if(team > -1):\n",
    "                leagueDict[team] = int(cell.text.replace(',', ''))\n",
    "    soup = BeautifulSoup(r, 'lxml').findAll('h2', { \"class\" : \"ismTableHeading\" })\n",
    "    gwNums = []\n",
    "    for table in soup:\n",
    "        gwNums.append(int(table.text.replace('Gameweek', '').strip()))\n",
    "    return leagueDict, gwNums\n",
    "\n",
    "def decencyFilter(toCheckMatches=[]):\n",
    "    for i in toCheckMatches:\n",
    "        if(len(i) != 8):\n",
    "            print \"Length not right\\n\"\n",
    "            exit()\n",
    "        for j in i:\n",
    "            if(i.count(j) != 1):\n",
    "                print \"Too many occurances of %s\", j\n",
    "    return 1\n",
    "\n",
    "\n",
    "def simulatedSolution(matchLineUp=[], leagueTable={}):\n",
    "    newLeagueTable = copy(leagueTable)\n",
    "    for i in matchLineUp:\n",
    "        for j in range(0, 8, 2):\n",
    "            result = random.randint(0, 400)\n",
    "            if(result < 197):\n",
    "                newLeagueTable[i[j]] += 3\n",
    "            elif(result < 394):\n",
    "                newLeagueTable[i[j+1]] += 3\n",
    "            else:\n",
    "                newLeagueTable[i[j]] += 1\n",
    "                newLeagueTable[i[j+1]] += 1\n",
    "    outNames = []\n",
    "    outScores = []\n",
    "    for w in sorted(newLeagueTable, key=newLeagueTable.get, reverse=True):\n",
    "        outNames.append(w)\n",
    "        outScores.append(newLeagueTable[w])\n",
    "    return outNames, outScores\n",
    "\n",
    "\n",
    "def finaliseSolutions(scores, names):\n",
    "    outNames = []\n",
    "    while(len(outNames) < 4):\n",
    "        for i in scores:\n",
    "            if(names[scores.index(i)] not in outNames):\n",
    "                if(scores.count(i) <= 4-len(outNames)):\n",
    "                    j = scores.index(i)\n",
    "                    while(scores[j] == i):\n",
    "                        outNames.append(names[j])\n",
    "                        j += 1\n",
    "                else:\n",
    "                    indices = [j for j, x in enumerate(scores) if x == i]\n",
    "                    while(len(outNames) < 4):\n",
    "                        choice = random.randint(0, len(indices)-1)\n",
    "                        outNames.append(names[indices[choice]])\n",
    "    return outNames"
   ]
  },
  {
   "cell_type": "markdown",
   "metadata": {},
   "source": [
    "# Do setup before running simulation\n",
    "1. Get fixtures\n",
    "2. Get the current league\n",
    "3. print both these, check that it looks right... Also can adjust number GW's remaining if runing before sit update"
   ]
  },
  {
   "cell_type": "code",
   "execution_count": 16,
   "metadata": {
    "collapsed": false
   },
   "outputs": [
    {
     "name": "stdout",
     "output_type": "stream",
     "text": [
      "(4, 8)\n"
     ]
    }
   ],
   "source": [
    "matches = getFitureList()\n",
    "currentLeagueTable, gwNums = getLeaguePoints()\n",
    "newMatches = matches[gwNums[0]:]\n",
    "print newMatches.shape\n",
    "print currentLeagueTable"
   ]
  },
  {
   "cell_type": "markdown",
   "metadata": {},
   "source": [
    "# Now do the actual simulation"
   ]
  },
  {
   "cell_type": "code",
   "execution_count": 18,
   "metadata": {
    "collapsed": false
   },
   "outputs": [],
   "source": [
    "topFourResults = {}\n",
    "for team in newMatches[0]:\n",
    "    topFourResults[team] = 0\n",
    "for ff in xrange(nSims):\n",
    "    outNames, outScores = simulatedSolution(newMatches,currentLeagueTable)\n",
    "    results = finaliseSolutions(outScores,outNames)\n",
    "    for i in results:\n",
    "        topFourResults[i]+=1"
   ]
  },
  {
   "cell_type": "markdown",
   "metadata": {},
   "source": [
    "# Now do some magic to turn numbers into names and percents"
   ]
  },
  {
   "cell_type": "code",
   "execution_count": 19,
   "metadata": {
    "collapsed": true
   },
   "outputs": [],
   "source": [
    "playerNames = {\"Martyn\":12254, \"Nick\":22029, \"Ross\":202857, \"Sam\":50395, \"Pete\":8293,\"Steve\":33197, \"Snell\":156762, \"Ricky\":10494}\n",
    "playerNames = dict((v,k) for k,v in playerNames.iteritems())\n",
    "for key, value in topFourResults.iteritems():\n",
    "    print '{0:<8}{1:.3f}'.format(playerNames[key], 100*float(value)/nSims)"
   ]
  },
  {
   "cell_type": "markdown",
   "metadata": {
    "collapsed": false
   },
   "source": [
    "# If I'm running before the league has updated then I have to manually add the points to the league table"
   ]
  },
  {
   "cell_type": "code",
   "execution_count": null,
   "metadata": {
    "collapsed": false
   },
   "outputs": [],
   "source": [
    "currentLeagueTable[22029] += 3\n",
    "currentLeagueTable[50395] += 3\n",
    "currentLeagueTable[33197] += 3\n",
    "currentLeagueTable[10494] += 3\n",
    "print currentLeagueTable"
   ]
  },
  {
   "cell_type": "code",
   "execution_count": null,
   "metadata": {
    "collapsed": false
   },
   "outputs": [],
   "source": []
  },
  {
   "cell_type": "code",
   "execution_count": null,
   "metadata": {
    "collapsed": false
   },
   "outputs": [],
   "source": []
  },
  {
   "cell_type": "code",
   "execution_count": null,
   "metadata": {
    "collapsed": false
   },
   "outputs": [],
   "source": []
  },
  {
   "cell_type": "code",
   "execution_count": null,
   "metadata": {
    "collapsed": false
   },
   "outputs": [],
   "source": []
  },
  {
   "cell_type": "code",
   "execution_count": null,
   "metadata": {
    "collapsed": false
   },
   "outputs": [],
   "source": []
  },
  {
   "cell_type": "code",
   "execution_count": null,
   "metadata": {
    "collapsed": false
   },
   "outputs": [],
   "source": []
  },
  {
   "cell_type": "code",
   "execution_count": null,
   "metadata": {
    "collapsed": true
   },
   "outputs": [],
   "source": []
  }
 ],
 "metadata": {
  "kernelspec": {
   "display_name": "Python 2",
   "language": "python",
   "name": "python2"
  },
  "language_info": {
   "codemirror_mode": {
    "name": "ipython",
    "version": 2
   },
   "file_extension": ".py",
   "mimetype": "text/x-python",
   "name": "python",
   "nbconvert_exporter": "python",
   "pygments_lexer": "ipython2",
   "version": "2.7.10"
  }
 },
 "nbformat": 4,
 "nbformat_minor": 0
}
